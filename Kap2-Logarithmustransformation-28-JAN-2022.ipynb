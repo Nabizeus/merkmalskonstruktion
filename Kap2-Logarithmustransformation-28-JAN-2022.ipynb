{
 "cells": [
  {
   "cell_type": "code",
   "execution_count": 2,
   "id": "1bddedc3",
   "metadata": {},
   "outputs": [],
   "source": [
    "import pandas as pd\n",
    "import json\n",
    "import matplotlib.pyplot as plt\n",
    "import numpy as np"
   ]
  },
  {
   "cell_type": "code",
   "execution_count": 14,
   "id": "0acb51a0",
   "metadata": {},
   "outputs": [],
   "source": [
    "# Daten der Geschäfte laden aus JSON Format\n",
    "biz_file =  open('data/yelp_academic_dataset_business.json')\n",
    "biz_df = pd.DataFrame([json.loads(x) for x in biz_file.readlines()])\n",
    "biz_file.close()"
   ]
  },
  {
   "cell_type": "code",
   "execution_count": 17,
   "id": "0bf8cd84",
   "metadata": {},
   "outputs": [],
   "source": [
    "biz_df['log_review_count']=np.log10(biz_df['review_count']+1)"
   ]
  },
  {
   "cell_type": "code",
   "execution_count": 4,
   "id": "6d478e37",
   "metadata": {},
   "outputs": [
    {
     "data": {
      "text/plain": [
       "Text(0, 0.5, 'Occurrence')"
      ]
     },
     "execution_count": 4,
     "metadata": {},
     "output_type": "execute_result"
    },
    {
     "data": {
      "image/png": "[encoded data removed]",
      "text/plain": [
       "<Figure size 432x288 with 2 Axes>"
      ]
     },
     "metadata": {
      "needs_background": "light"
     },
     "output_type": "display_data"
    }
   ],
   "source": [
    "fig, (ax1, ax2) = plt.subplots(2,1)\n",
    "biz_df['review_count'].hist(ax=ax1, bins=100)\n",
    "ax1.tick_params(labelsize=14)\n",
    "ax1.set_xlabel('review_count', fontsize=14)\n",
    "ax1.set_ylabel('Occurrence', fontsize=14)\n",
    "biz_df['log_review_count'].hist(ax=ax2, bins=100)\n",
    "ax2.tick_params(labelsize=14)\n",
    "ax2.set_xlabel('log10(review_count)', fontsize=14)\n",
    "ax2.set_ylabel('Occurrence', fontsize=14)"
   ]
  },
  {
   "cell_type": "code",
   "execution_count": 6,
   "id": "2469a91b",
   "metadata": {},
   "outputs": [
    {
     "name": "stdout",
     "output_type": "stream",
     "text": [
      "R-squared score without log transform: 0.00179 (+/- 0.00417)\n",
      "R-squared score with log transform: 0.00069 (+/- 0.00585)\n"
     ]
    }
   ],
   "source": [
    "# Am Werk\n",
    "\n",
    "\n",
    "# Beispiel 2.8 - Count vs. Sterne?\n",
    "\n",
    "# Lerne lineare Regressionsmodelle an, um die mittlere Sternebewertung eines\n",
    "# Geschäfts anhand des Merkmals review_count mit und ohne\n",
    "# Logarithmustransformation vorherzusagen.\n",
    "# Vergleiche die Bewertun beider Modelle nach zehnfacher Kreuzvalidierung.\n",
    "from sklearn import linear_model\n",
    "from sklearn.model_selection import cross_val_score\n",
    "m_orig = linear_model.LinearRegression()\n",
    "scores_orig = cross_val_score(m_orig, biz_df[['review_count']], biz_df['stars'], cv=10)\n",
    "m_log = linear_model.LinearRegression()\n",
    "scores_log = cross_val_score(m_log, biz_df[['log_review_count']], biz_df['stars'], cv=10)\n",
    "\n",
    "print('R-squared score without log transform: %0.5f (+/- %0.5f)' % (scores_orig.mean(), 2*scores_orig.std()))\n",
    "print('R-squared score with log transform: %0.5f (+/- %0.5f)' % (scores_log.mean(), 2*scores_log.std()))"
   ]
  },
  {
   "cell_type": "code",
   "execution_count": 14,
   "id": "d2dac407",
   "metadata": {},
   "outputs": [
    {
     "data": {
      "text/plain": [
       "<matplotlib.collections.PathCollection at 0x12fa40dc0>"
      ]
     },
     "execution_count": 14,
     "metadata": {},
     "output_type": "execute_result"
    },
    {
     "data": {
      "image/png": "[encoded data removed]",
      "text/plain": [
       "<Figure size 432x288 with 1 Axes>"
      ]
     },
     "metadata": {
      "needs_background": "light"
     },
     "output_type": "display_data"
    }
   ],
   "source": [
    "plt.scatter(biz_df[['review_count']], biz_df['stars'])\n",
    "\n",
    "# Total bescheuert sowas mit einem linearen Model zu machen"
   ]
  },
  {
   "cell_type": "code",
   "execution_count": 4,
   "id": "f693989b",
   "metadata": {},
   "outputs": [
    {
     "data": {
      "text/html": [
       "<div>\n",
       "<style scoped>\n",
       "    .dataframe tbody tr th:only-of-type {\n",
       "        vertical-align: middle;\n",
       "    }\n",
       "\n",
       "    .dataframe tbody tr th {\n",
       "        vertical-align: top;\n",
       "    }\n",
       "\n",
       "    .dataframe thead th {\n",
       "        text-align: right;\n",
       "    }\n",
       "</style>\n",
       "<table border=\"1\" class=\"dataframe\">\n",
       "  <thead>\n",
       "    <tr style=\"text-align: right;\">\n",
       "      <th></th>\n",
       "      <th>url</th>\n",
       "      <th>timedelta</th>\n",
       "      <th>n_tokens_title</th>\n",
       "      <th>n_tokens_content</th>\n",
       "      <th>n_unique_tokens</th>\n",
       "      <th>n_non_stop_words</th>\n",
       "      <th>n_non_stop_unique_tokens</th>\n",
       "      <th>num_hrefs</th>\n",
       "      <th>num_self_hrefs</th>\n",
       "      <th>num_imgs</th>\n",
       "      <th>...</th>\n",
       "      <th>min_positive_polarity</th>\n",
       "      <th>max_positive_polarity</th>\n",
       "      <th>avg_negative_polarity</th>\n",
       "      <th>min_negative_polarity</th>\n",
       "      <th>max_negative_polarity</th>\n",
       "      <th>title_subjectivity</th>\n",
       "      <th>title_sentiment_polarity</th>\n",
       "      <th>abs_title_subjectivity</th>\n",
       "      <th>abs_title_sentiment_polarity</th>\n",
       "      <th>shares</th>\n",
       "    </tr>\n",
       "  </thead>\n",
       "  <tbody>\n",
       "    <tr>\n",
       "      <th>0</th>\n",
       "      <td>http://mashable.com/2013/01/07/amazon-instant-...</td>\n",
       "      <td>731.0</td>\n",
       "      <td>12.0</td>\n",
       "      <td>219.0</td>\n",
       "      <td>0.663594</td>\n",
       "      <td>1.0</td>\n",
       "      <td>0.815385</td>\n",
       "      <td>4.0</td>\n",
       "      <td>2.0</td>\n",
       "      <td>1.0</td>\n",
       "      <td>...</td>\n",
       "      <td>0.100000</td>\n",
       "      <td>0.7</td>\n",
       "      <td>-0.350000</td>\n",
       "      <td>-0.600</td>\n",
       "      <td>-0.200000</td>\n",
       "      <td>0.500000</td>\n",
       "      <td>-0.187500</td>\n",
       "      <td>0.000000</td>\n",
       "      <td>0.187500</td>\n",
       "      <td>593</td>\n",
       "    </tr>\n",
       "    <tr>\n",
       "      <th>1</th>\n",
       "      <td>http://mashable.com/2013/01/07/ap-samsung-spon...</td>\n",
       "      <td>731.0</td>\n",
       "      <td>9.0</td>\n",
       "      <td>255.0</td>\n",
       "      <td>0.604743</td>\n",
       "      <td>1.0</td>\n",
       "      <td>0.791946</td>\n",
       "      <td>3.0</td>\n",
       "      <td>1.0</td>\n",
       "      <td>1.0</td>\n",
       "      <td>...</td>\n",
       "      <td>0.033333</td>\n",
       "      <td>0.7</td>\n",
       "      <td>-0.118750</td>\n",
       "      <td>-0.125</td>\n",
       "      <td>-0.100000</td>\n",
       "      <td>0.000000</td>\n",
       "      <td>0.000000</td>\n",
       "      <td>0.500000</td>\n",
       "      <td>0.000000</td>\n",
       "      <td>711</td>\n",
       "    </tr>\n",
       "    <tr>\n",
       "      <th>2</th>\n",
       "      <td>http://mashable.com/2013/01/07/apple-40-billio...</td>\n",
       "      <td>731.0</td>\n",
       "      <td>9.0</td>\n",
       "      <td>211.0</td>\n",
       "      <td>0.575130</td>\n",
       "      <td>1.0</td>\n",
       "      <td>0.663866</td>\n",
       "      <td>3.0</td>\n",
       "      <td>1.0</td>\n",
       "      <td>1.0</td>\n",
       "      <td>...</td>\n",
       "      <td>0.100000</td>\n",
       "      <td>1.0</td>\n",
       "      <td>-0.466667</td>\n",
       "      <td>-0.800</td>\n",
       "      <td>-0.133333</td>\n",
       "      <td>0.000000</td>\n",
       "      <td>0.000000</td>\n",
       "      <td>0.500000</td>\n",
       "      <td>0.000000</td>\n",
       "      <td>1500</td>\n",
       "    </tr>\n",
       "    <tr>\n",
       "      <th>3</th>\n",
       "      <td>http://mashable.com/2013/01/07/astronaut-notre...</td>\n",
       "      <td>731.0</td>\n",
       "      <td>9.0</td>\n",
       "      <td>531.0</td>\n",
       "      <td>0.503788</td>\n",
       "      <td>1.0</td>\n",
       "      <td>0.665635</td>\n",
       "      <td>9.0</td>\n",
       "      <td>0.0</td>\n",
       "      <td>1.0</td>\n",
       "      <td>...</td>\n",
       "      <td>0.136364</td>\n",
       "      <td>0.8</td>\n",
       "      <td>-0.369697</td>\n",
       "      <td>-0.600</td>\n",
       "      <td>-0.166667</td>\n",
       "      <td>0.000000</td>\n",
       "      <td>0.000000</td>\n",
       "      <td>0.500000</td>\n",
       "      <td>0.000000</td>\n",
       "      <td>1200</td>\n",
       "    </tr>\n",
       "    <tr>\n",
       "      <th>4</th>\n",
       "      <td>http://mashable.com/2013/01/07/att-u-verse-apps/</td>\n",
       "      <td>731.0</td>\n",
       "      <td>13.0</td>\n",
       "      <td>1072.0</td>\n",
       "      <td>0.415646</td>\n",
       "      <td>1.0</td>\n",
       "      <td>0.540890</td>\n",
       "      <td>19.0</td>\n",
       "      <td>19.0</td>\n",
       "      <td>20.0</td>\n",
       "      <td>...</td>\n",
       "      <td>0.033333</td>\n",
       "      <td>1.0</td>\n",
       "      <td>-0.220192</td>\n",
       "      <td>-0.500</td>\n",
       "      <td>-0.050000</td>\n",
       "      <td>0.454545</td>\n",
       "      <td>0.136364</td>\n",
       "      <td>0.045455</td>\n",
       "      <td>0.136364</td>\n",
       "      <td>505</td>\n",
       "    </tr>\n",
       "  </tbody>\n",
       "</table>\n",
       "<p>5 rows × 61 columns</p>\n",
       "</div>"
      ],
      "text/plain": [
       "                                                 url  timedelta  \\\n",
       "0  http://mashable.com/2013/01/07/amazon-instant-...      731.0   \n",
       "1  http://mashable.com/2013/01/07/ap-samsung-spon...      731.0   \n",
       "2  http://mashable.com/2013/01/07/apple-40-billio...      731.0   \n",
       "3  http://mashable.com/2013/01/07/astronaut-notre...      731.0   \n",
       "4   http://mashable.com/2013/01/07/att-u-verse-apps/      731.0   \n",
       "\n",
       "   n_tokens_title  n_tokens_content  n_unique_tokens  n_non_stop_words  \\\n",
       "0            12.0             219.0         0.663594               1.0   \n",
       "1             9.0             255.0         0.604743               1.0   \n",
       "2             9.0             211.0         0.575130               1.0   \n",
       "3             9.0             531.0         0.503788               1.0   \n",
       "4            13.0            1072.0         0.415646               1.0   \n",
       "\n",
       "   n_non_stop_unique_tokens  num_hrefs  num_self_hrefs  num_imgs  ...  \\\n",
       "0                  0.815385        4.0             2.0       1.0  ...   \n",
       "1                  0.791946        3.0             1.0       1.0  ...   \n",
       "2                  0.663866        3.0             1.0       1.0  ...   \n",
       "3                  0.665635        9.0             0.0       1.0  ...   \n",
       "4                  0.540890       19.0            19.0      20.0  ...   \n",
       "\n",
       "   min_positive_polarity  max_positive_polarity  avg_negative_polarity  \\\n",
       "0               0.100000                    0.7              -0.350000   \n",
       "1               0.033333                    0.7              -0.118750   \n",
       "2               0.100000                    1.0              -0.466667   \n",
       "3               0.136364                    0.8              -0.369697   \n",
       "4               0.033333                    1.0              -0.220192   \n",
       "\n",
       "   min_negative_polarity  max_negative_polarity  title_subjectivity  \\\n",
       "0                 -0.600              -0.200000            0.500000   \n",
       "1                 -0.125              -0.100000            0.000000   \n",
       "2                 -0.800              -0.133333            0.000000   \n",
       "3                 -0.600              -0.166667            0.000000   \n",
       "4                 -0.500              -0.050000            0.454545   \n",
       "\n",
       "   title_sentiment_polarity  abs_title_subjectivity  \\\n",
       "0                 -0.187500                0.000000   \n",
       "1                  0.000000                0.500000   \n",
       "2                  0.000000                0.500000   \n",
       "3                  0.000000                0.500000   \n",
       "4                  0.136364                0.045455   \n",
       "\n",
       "   abs_title_sentiment_polarity  shares  \n",
       "0                      0.187500     593  \n",
       "1                      0.000000     711  \n",
       "2                      0.000000    1500  \n",
       "3                      0.000000    1200  \n",
       "4                      0.136364     505  \n",
       "\n",
       "[5 rows x 61 columns]"
      ]
     },
     "execution_count": 4,
     "metadata": {},
     "output_type": "execute_result"
    }
   ],
   "source": [
    "# Beispiel 2.9 - Online News\n",
    "\n",
    "# Datensatz\n",
    "\n",
    "df = pd.read_csv('data/ONP_sub_test.csv',delimiter=',', skipinitialspace=True)\n",
    "\n",
    "\n",
    "\n",
    "df.head()"
   ]
  },
  {
   "cell_type": "code",
   "execution_count": 5,
   "id": "c9107fad",
   "metadata": {},
   "outputs": [],
   "source": [
    "# Bilde die Logarithmustransformation des Merkmals 'n_tokens_content', das\n",
    "# die Zahl der Wörter (Tokens) in einer Meldung beschreibt.\n",
    "df['log_n_tokens_content'] = np.log10(df['n_tokens_content']+1)\n",
    "#print(df.columns)\n",
    "#print(df['timedelta'])\n",
    "#df.head()"
   ]
  },
  {
   "cell_type": "code",
   "execution_count": 6,
   "id": "785305c9",
   "metadata": {},
   "outputs": [
    {
     "name": "stdout",
     "output_type": "stream",
     "text": [
      "R-squared score without log transform: -0.30116 (+/- 1.01105)\n",
      "R-squared score with log transform: -0.28651 (+/- 1.04767)\n"
     ]
    }
   ],
   "source": [
    "# Lerne zwei lineare Regressionsmodelle an, um die Anzahl von\n",
    "# Weiterverbreitungen eines Artikels vorherzusagen, wobei eines das Merkmal\n",
    "# selbst und das andere das logarithmierte Merkmal benutzt.\n",
    "\n",
    "\n",
    "from sklearn import linear_model\n",
    "from sklearn.model_selection import cross_val_score\n",
    "m_orig = linear_model.LinearRegression()\n",
    "scores_orig = cross_val_score(m_orig, df[['n_tokens_content']],\n",
    "                             df['shares'], cv=10)\n",
    "\n",
    "m_log = linear_model.LinearRegression()\n",
    "scores_log = cross_val_score(m_log, df[['log_n_tokens_content']],\n",
    "                             df['shares'], cv=10)\n",
    "print('R-squared score without log transform: %0.5f (+/- %0.5f)' % (scores_orig.mean(), 2*scores_orig.std()))\n",
    "print('R-squared score with log transform: %0.5f (+/- %0.5f)' % (scores_log.mean(), 2*scores_log.std()))\n"
   ]
  },
  {
   "cell_type": "code",
   "execution_count": 11,
   "id": "57b3495c",
   "metadata": {},
   "outputs": [
    {
     "data": {
      "text/plain": [
       "Text(0, 0.5, 'Number of Shares')"
      ]
     },
     "execution_count": 11,
     "metadata": {},
     "output_type": "execute_result"
    },
    {
     "data": {
      "image/png": "[encoded data removed]",
      "text/plain": [
       "<Figure size 432x288 with 2 Axes>"
      ]
     },
     "metadata": {
      "needs_background": "light"
     },
     "output_type": "display_data"
    }
   ],
   "source": [
    "# Beispiel 2-10 Visualisierung der Korrelation\n",
    "\n",
    "fig2, (ax1, ax2) = plt.subplots(2,1)\n",
    "ax1.scatter(df['n_tokens_content'], df['shares'])\n",
    "ax1.tick_params(labelsize=14)\n",
    "ax1.set_xlabel('Number of Words in Article', fontsize=14)\n",
    "#ax1.set_ylabel('Number of Shares', fontsize=14)\n",
    "\n",
    "ax2.scatter(df['log_n_tokens_content'], df['shares'])\n",
    "ax2.tick_params(labelsize=14)\n",
    "ax2.set_xlabel('Log of the Number of Words in Article', fontsize=14)\n",
    "ax2.set_ylabel('Number of Shares', fontsize=14)\n"
   ]
  },
  {
   "cell_type": "code",
   "execution_count": 18,
   "id": "2f959d73",
   "metadata": {},
   "outputs": [
    {
     "data": {
      "text/plain": [
       "Text(0, 0.5, 'Average Star Rating')"
      ]
     },
     "execution_count": 18,
     "metadata": {},
     "output_type": "execute_result"
    },
    {
     "data": {
      "image/png": "[encoded data removed]",
      "text/plain": [
       "<Figure size 432x288 with 2 Axes>"
      ]
     },
     "metadata": {
      "needs_background": "light"
     },
     "output_type": "display_data"
    }
   ],
   "source": [
    "# Beispiel 2-11\n",
    "\n",
    "fig, (ax1, ax2) = plt.subplots(2,1)\n",
    "ax1.scatter(biz_df['review_count'], biz_df['stars'])\n",
    "ax1.tick_params(labelsize=14)\n",
    "ax1.set_xlabel('Review Count', fontsize=14)\n",
    "#ax1.set_ylabel('Number of Shares', fontsize=14)\n",
    "\n",
    "ax2.scatter(biz_df['log_review_count'], biz_df['stars'])\n",
    "ax2.tick_params(labelsize=14)\n",
    "ax2.set_xlabel('Log of Review Count', fontsize=14)\n",
    "ax2.set_ylabel('Average Star Rating', fontsize=14)\n"
   ]
  },
  {
   "cell_type": "code",
   "execution_count": null,
   "id": "8384b418",
   "metadata": {},
   "outputs": [],
   "source": [
    "# Next Potenztransformation"
   ]
  }
 ],
 "metadata": {
  "kernelspec": {
   "display_name": "Python 3 (ipykernel)",
   "language": "python",
   "name": "python3"
  },
  "language_info": {
   "codemirror_mode": {
    "name": "ipython",
    "version": 3
   },
   "file_extension": ".py",
   "mimetype": "text/x-python",
   "name": "python",
   "nbconvert_exporter": "python",
   "pygments_lexer": "ipython3",
   "version": "3.9.6"
  }
 },
 "nbformat": 4,
 "nbformat_minor": 5
}
