{
 "cells": [
  {
   "cell_type": "code",
   "execution_count": 1,
   "id": "97a3a905",
   "metadata": {},
   "outputs": [],
   "source": [
    "import pandas as pd\n",
    "import json"
   ]
  },
  {
   "cell_type": "code",
   "execution_count": 7,
   "id": "4dd0881b",
   "metadata": {},
   "outputs": [
    {
     "name": "stdout",
     "output_type": "stream",
     "text": [
      "  % Total    % Received % Xferd  Average Speed   Time    Time     Time  Current\n",
      "                                 Dload  Upload   Total   Spent    Left  Speed\n",
      "100 12.3M  100 12.3M    0     0   357k      0  0:00:35  0:00:35 --:--:-- 1325k31  0:00:20  0:04:11 66827\n"
     ]
    }
   ],
   "source": [
    "!curl -o yelp_academic_dataset_business.json https://raw.githubusercontent.com/melqkiades/yelp/master/notebooks/yelp_academic_dataset_business.json\n"
   ]
  },
  {
   "cell_type": "code",
   "execution_count": 8,
   "id": "5c743ec6",
   "metadata": {},
   "outputs": [],
   "source": [
    "# Daten der Geschäfte laden aus JSON Format\n",
    "biz_file =  open('yelp_academic_dataset_business.json')\n",
    "biz_df = pd.DataFrame([json.loads(x) for x in biz_file.readlines()])\n",
    "biz_file.close()"
   ]
  },
  {
   "cell_type": "code",
   "execution_count": 9,
   "id": "47d97709",
   "metadata": {},
   "outputs": [
    {
     "data": {
      "text/plain": [
       "Text(0, 0.5, 'Occurrence')"
      ]
     },
     "execution_count": 9,
     "metadata": {},
     "output_type": "execute_result"
    },
    {
     "data": {
      "image/png": "[encoded data removed]",
      "text/plain": [
       "<Figure size 432x288 with 1 Axes>"
      ]
     },
     "metadata": {},
     "output_type": "display_data"
    }
   ],
   "source": [
    "import matplotlib.pyplot as plt\n",
    "import seaborn as sns\n",
    "\n",
    "# Histogramm der Rezensionszahlen zeichnen\n",
    "\n",
    "sns.set_style('whitegrid')\n",
    "fig, ax = plt.subplots()\n",
    "biz_df['review_count'].hist(ax=ax, bins=100)\n",
    "ax.set_yscale('log')\n",
    "ax.tick_params(labelsize=14)\n",
    "ax.set_xlabel('Review Count', fontsize=14)\n",
    "ax.set_ylabel('Occurrence', fontsize=14)"
   ]
  },
  {
   "cell_type": "code",
   "execution_count": 11,
   "id": "bc23c121",
   "metadata": {},
   "outputs": [
    {
     "data": {
      "text/plain": [
       "array([64, 81, 39, 55, 14,  9, 24, 96, 26, 53, 68, 74, 83, 45, 49, 13,  0,\n",
       "       62, 28, 59])"
      ]
     },
     "execution_count": 11,
     "metadata": {},
     "output_type": "execute_result"
    }
   ],
   "source": [
    "# Klasseneinteilung mit festen Klassengrößen\n",
    "\n",
    "#Erzeuge 20 gleichverteilte ganze Zufallszahlen von 0 bis 99\n",
    "import numpy as np\n",
    "small_counts = np.random.randint(0,100,20)\n",
    "small_counts"
   ]
  },
  {
   "cell_type": "code",
   "execution_count": 14,
   "id": "a213e5f9",
   "metadata": {},
   "outputs": [
    {
     "data": {
      "text/plain": [
       "array([6, 8, 3, 5, 1, 0, 2, 9, 2, 5, 6, 7, 8, 4, 4, 1, 0, 6, 2, 5])"
      ]
     },
     "execution_count": 14,
     "metadata": {},
     "output_type": "execute_result"
    }
   ],
   "source": [
    "# Bilde per Division auf gleichtförmig verteilte Klassen 0-09 ab\n",
    "np.floor_divide(small_counts,10)\n"
   ]
  },
  {
   "cell_type": "code",
   "execution_count": 15,
   "id": "d6c0e358",
   "metadata": {},
   "outputs": [],
   "source": [
    "large_counts = [296,8286,64011,80,3,725,867,2215,7689,11495,91897,44,28,7971,926,122,22222]"
   ]
  },
  {
   "cell_type": "code",
   "execution_count": 16,
   "id": "b0a8e386",
   "metadata": {},
   "outputs": [
    {
     "data": {
      "text/plain": [
       "array([2., 3., 4., 1., 0., 2., 2., 3., 3., 4., 4., 1., 1., 3., 2., 2., 4.])"
      ]
     },
     "execution_count": 16,
     "metadata": {},
     "output_type": "execute_result"
    }
   ],
   "source": [
    "# Bilde per Logarithmusfunktion auf Klassen exponentieller Größe ab\n",
    "np.floor(np.log10(large_counts))"
   ]
  },
  {
   "cell_type": "code",
   "execution_count": 17,
   "id": "49a84014",
   "metadata": {},
   "outputs": [
    {
     "data": {
      "text/plain": [
       "Text(0, 0.5, 'Occurrence')"
      ]
     },
     "execution_count": 17,
     "metadata": {},
     "output_type": "execute_result"
    },
    {
     "data": {
      "image/png": "[encoded data removed]",
      "text/plain": [
       "<Figure size 432x288 with 1 Axes>"
      ]
     },
     "metadata": {},
     "output_type": "display_data"
    }
   ],
   "source": [
    "#Klasseneinteilung nach Quantilen\n",
    "\n",
    "#Berechnung de Dezile der Rezensionszahlen von Yelp\n",
    "\n",
    "deciles = biz_df['review_count'].quantile([0.1,0.2,0.3,0.4,0.5,0.6,0.7,0.8,0.9])\n",
    "\n",
    "# Zeichne die Dezile ins Histogramm\n",
    "\n",
    "sns.set_style('whitegrid')\n",
    "fig, ax = plt.subplots()\n",
    "biz_df['review_count'].hist(ax=ax, bins=100)\n",
    "for pos in deciles:\n",
    "    handle = plt.axvline(pos, color='r')\n",
    "ax.legend([handle], ['deciles'], fontsize=14)\n",
    "ax.set_yscale('log')\n",
    "ax.set_xscale('log')\n",
    "ax.tick_params(labelsize=14)\n",
    "ax.set_xlabel('Review Count', fontsize=14)\n",
    "ax.set_ylabel('Occurrence', fontsize=14)"
   ]
  },
  {
   "cell_type": "code",
   "execution_count": 18,
   "id": "4a92b922",
   "metadata": {},
   "outputs": [
    {
     "data": {
      "text/plain": [
       "array([1, 2, 3, 0, 0, 1, 1, 2, 2, 3, 3, 0, 0, 2, 1, 0, 3])"
      ]
     },
     "execution_count": 18,
     "metadata": {},
     "output_type": "execute_result"
    }
   ],
   "source": [
    "# Abbildung der Zählerwerte auf Quartile\n",
    "pd.qcut(large_counts, 4, labels = False)\n"
   ]
  },
  {
   "cell_type": "code",
   "execution_count": 19,
   "id": "55bfa716",
   "metadata": {},
   "outputs": [],
   "source": [
    "# Berechnung der Quantile\n",
    "large_counts_series = pd.Series(large_counts)"
   ]
  },
  {
   "cell_type": "code",
   "execution_count": 22,
   "id": "37270cb6",
   "metadata": {},
   "outputs": [
    {
     "data": {
      "text/plain": [
       "0.25     122.0\n",
       "0.50     926.0\n",
       "0.75    8286.0\n",
       "dtype: float64"
      ]
     },
     "execution_count": 22,
     "metadata": {},
     "output_type": "execute_result"
    }
   ],
   "source": [
    "large_counts_series.quantile([0.25,0.5,0.75])"
   ]
  },
  {
   "cell_type": "code",
   "execution_count": null,
   "id": "14d7912c",
   "metadata": {},
   "outputs": [],
   "source": []
  }
 ],
 "metadata": {
  "kernelspec": {
   "display_name": "Python 3 (ipykernel)",
   "language": "python",
   "name": "python3"
  },
  "language_info": {
   "codemirror_mode": {
    "name": "ipython",
    "version": 3
   },
   "file_extension": ".py",
   "mimetype": "text/x-python",
   "name": "python",
   "nbconvert_exporter": "python",
   "pygments_lexer": "ipython3",
   "version": "3.9.6"
  }
 },
 "nbformat": 4,
 "nbformat_minor": 5
}
